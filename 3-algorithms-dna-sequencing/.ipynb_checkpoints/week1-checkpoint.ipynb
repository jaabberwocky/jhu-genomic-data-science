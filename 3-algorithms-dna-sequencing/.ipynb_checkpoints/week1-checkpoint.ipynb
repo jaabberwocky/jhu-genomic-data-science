{
 "cells": [
  {
   "cell_type": "code",
   "execution_count": 1,
   "id": "77ad9ffc-ad70-4673-8bc6-a0f4e08d514f",
   "metadata": {},
   "outputs": [],
   "source": [
    "def longest_common_prefix(s1, s2):\n",
    "    # prefix has to start from beginning of string\n",
    "    i = 0\n",
    "    while i < len(s1) and i < len(s2) and s1[i] == s2[i]:\n",
    "        i += 1\n",
    "    return s1[:i]"
   ]
  },
  {
   "cell_type": "code",
   "execution_count": 2,
   "id": "200c60e4-ae21-40c6-b277-316c4a0f6804",
   "metadata": {},
   "outputs": [
    {
     "data": {
      "text/plain": [
       "'ACCA'"
      ]
     },
     "execution_count": 2,
     "metadata": {},
     "output_type": "execute_result"
    }
   ],
   "source": [
    "longest_common_prefix('ACCAATGT', 'ACCAGAC')"
   ]
  },
  {
   "cell_type": "code",
   "execution_count": 3,
   "id": "b9f34687-bf22-42c7-80dc-97c3bda8b620",
   "metadata": {},
   "outputs": [],
   "source": [
    "def reverse_complement(s):\n",
    "    # get the dna seq on the other strand in the other direction\n",
    "    # alternative implementation without using dictionary\n",
    "    complement = ['A', 'T', 'C', 'G']\n",
    "    t = ''\n",
    "    for base in s:\n",
    "        base_idx = complement.index(base)\n",
    "        offset = 0\n",
    "        if base_idx in [1, 3]:\n",
    "            offset = -1\n",
    "        else:\n",
    "            offset = 1\n",
    "        t = complement[base_idx + offset] + t\n",
    "    return t"
   ]
  },
  {
   "cell_type": "code",
   "execution_count": 6,
   "id": "15fbf8e7-4d4e-460d-9bda-0f6fbf656760",
   "metadata": {},
   "outputs": [],
   "source": [
    "assert reverse_complement('ATTG') == 'CAAT' # true\n",
    "assert reverse_complement('ACCGTCG') == 'CGACGGT' # true"
   ]
  },
  {
   "cell_type": "code",
   "execution_count": 7,
   "id": "68cfdc48-8a0c-4f23-9bcd-be2c0bd544b3",
   "metadata": {},
   "outputs": [
    {
     "name": "stdout",
     "output_type": "stream",
     "text": [
      "--2023-10-12 23:27:55--  http://d28rh4a8wq0iu5.cloudfront.net/ads1/data/ERR266411_1.first1000.fastq\n",
      "Resolving d28rh4a8wq0iu5.cloudfront.net (d28rh4a8wq0iu5.cloudfront.net)... 13.35.18.226, 13.35.18.231, 13.35.18.62, ...\n",
      "Connecting to d28rh4a8wq0iu5.cloudfront.net (d28rh4a8wq0iu5.cloudfront.net)|13.35.18.226|:80... connected.\n",
      "HTTP request sent, awaiting response... 200 OK\n",
      "Length: 254384 (248K) [audio/mpeg]\n",
      "Saving to: ‘ERR266411_1.first1000.fastq’\n",
      "\n",
      "ERR266411_1.first10 100%[===================>] 248.42K   339KB/s    in 0.7s    \n",
      "\n",
      "2023-10-12 23:27:57 (339 KB/s) - ‘ERR266411_1.first1000.fastq’ saved [254384/254384]\n",
      "\n"
     ]
    }
   ],
   "source": [
    "# download fastq files\n",
    "!wget http://d28rh4a8wq0iu5.cloudfront.net/ads1/data/ERR266411_1.first1000.fastq  "
   ]
  },
  {
   "cell_type": "code",
   "execution_count": null,
   "id": "275bd5a1-c2d8-4d8f-a690-9a5d07883bea",
   "metadata": {},
   "outputs": [],
   "source": []
  }
 ],
 "metadata": {
  "kernelspec": {
   "display_name": "Python 3 (ipykernel)",
   "language": "python",
   "name": "python3"
  },
  "language_info": {
   "codemirror_mode": {
    "name": "ipython",
    "version": 3
   },
   "file_extension": ".py",
   "mimetype": "text/x-python",
   "name": "python",
   "nbconvert_exporter": "python",
   "pygments_lexer": "ipython3",
   "version": "3.10.12"
  }
 },
 "nbformat": 4,
 "nbformat_minor": 5
}
