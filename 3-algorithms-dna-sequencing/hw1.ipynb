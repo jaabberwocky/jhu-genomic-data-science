{
 "cells": [
  {
   "cell_type": "markdown",
   "id": "58fdc67c-dbcc-4c27-8fce-5f1f06c27fb5",
   "metadata": {},
   "source": [
    "# Programming HW 1"
   ]
  },
  {
   "cell_type": "markdown",
   "id": "f3907c22-4af8-4cf9-90c6-3285cae2033e",
   "metadata": {},
   "source": [
    "## Code"
   ]
  },
  {
   "cell_type": "code",
   "execution_count": 1,
   "id": "b13b22a8-8f3e-44be-9420-7d608a4f6ec8",
   "metadata": {},
   "outputs": [],
   "source": [
    "def readGenome(filename):\n",
    "    genome = ''\n",
    "    with open(filename, 'r') as f:\n",
    "        for line in f:\n",
    "            # ignore header line with genome information\n",
    "            if not line[0] == '>':\n",
    "                genome += line.rstrip()\n",
    "    return genome"
   ]
  },
  {
   "cell_type": "code",
   "execution_count": 2,
   "id": "f309a690-f8f8-4d0f-99ef-91b4f22f7b40",
   "metadata": {},
   "outputs": [],
   "source": [
    "def readFastq(filename):\n",
    "    sequences = []\n",
    "    qualities = []\n",
    "    with open(filename) as fh:\n",
    "        while True:\n",
    "            fh.readline()  # skip name line\n",
    "            seq = fh.readline().rstrip()  # read base sequence\n",
    "            fh.readline()  # skip placeholder line\n",
    "            qual = fh.readline().rstrip() # base quality line\n",
    "            if len(seq) == 0:\n",
    "                break\n",
    "            sequences.append(seq)\n",
    "            qualities.append(qual)\n",
    "    return sequences, qualities"
   ]
  },
  {
   "cell_type": "code",
   "execution_count": 3,
   "id": "c6cbe90c-2582-4eea-a413-c8d7e881fc89",
   "metadata": {},
   "outputs": [],
   "source": [
    "def reverseComplement(s):\n",
    "    complement = {'A': 'T', 'C': 'G', 'G': 'C', 'T': 'A', 'N': 'N'}\n",
    "    t = ''\n",
    "    for base in s:\n",
    "        t = complement[base] + t\n",
    "    return t"
   ]
  },
  {
   "cell_type": "code",
   "execution_count": 4,
   "id": "550e65d5-02b8-4f7e-b520-eb4d26bee547",
   "metadata": {},
   "outputs": [],
   "source": [
    "def naive(p, t):\n",
    "    occurrences = []\n",
    "    for i in range(len(t) - len(p) + 1):  # loop over alignments\n",
    "        match = True\n",
    "        for j in range(len(p)):  # loop over characters\n",
    "            if t[i+j] != p[j]:  # compare characters\n",
    "                match = False\n",
    "                break\n",
    "        if match:\n",
    "            occurrences.append(i)  # all chars matched; record\n",
    "    return occurrences"
   ]
  },
  {
   "cell_type": "code",
   "execution_count": 37,
   "id": "39ddd4a7-6ec5-4b2c-ad80-6aa39a73f778",
   "metadata": {},
   "outputs": [],
   "source": [
    "def naive_with_rc(p, t):\n",
    "    # O(2N) inefficient but workable\n",
    "    \n",
    "    occurrences = []\n",
    "    rc = reverseComplement(p)\n",
    "    rc_is_anagram = p == rc\n",
    "\n",
    "    for i in range(len(t) - len(p) + 1):\n",
    "        match = True\n",
    "        for j in range(len(p)):\n",
    "            if t[i+j] != p[j]:\n",
    "                match = False\n",
    "                break\n",
    "        if match:\n",
    "            occurrences.append(i)\n",
    "\n",
    "    for i in range(len(t) - len(p) + 1):\n",
    "        match = True\n",
    "        for j in range(len(p)):\n",
    "            if t[i+j] != rc[j]:\n",
    "                match = False\n",
    "                break\n",
    "        if match:\n",
    "            occurrences.append(i)\n",
    "            \n",
    "    if rc_is_anagram:\n",
    "        occurrences = [o for o in set(occurrences)]\n",
    "    occurrences.sort()\n",
    "    return occurrences"
   ]
  },
  {
   "cell_type": "code",
   "execution_count": null,
   "id": "320df9c1-474e-4d4f-b19e-a14f081a95c3",
   "metadata": {},
   "outputs": [],
   "source": [
    "def naive_2mm(p, t):\n",
    "    occurrences = []\n",
    "\n",
    "    for i in range(len(t) - len(p) + 1):\n",
    "        match = True\n",
    "        mismatches = 0\n",
    "        for j in range(len(p)):\n",
    "            if t[i+j] != p[j]:\n",
    "                if mismatches < 2:\n",
    "                    mismatches += 1\n",
    "                else:\n",
    "                    match = False\n",
    "                    break\n",
    "        if match:\n",
    "            occurrences.append(i)\n",
    "    return occurrences"
   ]
  },
  {
   "cell_type": "code",
   "execution_count": 87,
   "id": "8396de04-ab26-4a75-93e0-c5fa1a6b9f5c",
   "metadata": {},
   "outputs": [],
   "source": [
    "def findGCByPos(reads):\n",
    "    gc = [0] * 100\n",
    "    totals = [0] * 100\n",
    "\n",
    "    for read in reads:\n",
    "        for i in range(len(read)):\n",
    "            if read[i] == 'C' or read[i] == 'G':\n",
    "                gc[i] += 1\n",
    "            totals[i] += 1\n",
    "\n",
    "    for i in range(len(gc)):\n",
    "        if totals[i] > 0:\n",
    "            gc[i] /= float(totals[i])\n",
    "\n",
    "    return gc    "
   ]
  },
  {
   "cell_type": "markdown",
   "id": "3d605f35-000a-4b4a-98d4-e8447c24f4a6",
   "metadata": {},
   "source": [
    "## Test cases"
   ]
  },
  {
   "cell_type": "code",
   "execution_count": 47,
   "id": "792d5ff6-17d7-417c-a752-c8d47ad2ed95",
   "metadata": {},
   "outputs": [
    {
     "data": {
      "text/plain": [
       "[7]"
      ]
     },
     "execution_count": 47,
     "metadata": {},
     "output_type": "execute_result"
    }
   ],
   "source": [
    "# test 0a\n",
    "p = 'ACT'\n",
    "t = 'CATGACCACTGG'\n",
    "naive_with_rc(p, t)"
   ]
  },
  {
   "cell_type": "code",
   "execution_count": 48,
   "id": "84831cd8-cc81-4155-934a-427e1eba9f9f",
   "metadata": {},
   "outputs": [],
   "source": [
    "assert naive_with_rc(p, t) == [7]"
   ]
  },
  {
   "cell_type": "code",
   "execution_count": 50,
   "id": "e176e2fe-a495-4c56-92a8-b01e81de1d22",
   "metadata": {},
   "outputs": [
    {
     "data": {
      "text/plain": [
       "[10, 23]"
      ]
     },
     "execution_count": 50,
     "metadata": {},
     "output_type": "execute_result"
    }
   ],
   "source": [
    "# test 1\n",
    "p = 'CCC'\n",
    "ten_as = 'AAAAAAAAAA'\n",
    "t = ten_as + 'CCC' + ten_as + 'GGG' + ten_as\n",
    "occurrences = naive_with_rc(p, t)\n",
    "occurrences"
   ]
  },
  {
   "cell_type": "code",
   "execution_count": 51,
   "id": "4db401d5-9cf7-487f-b7da-25c2d81149df",
   "metadata": {},
   "outputs": [],
   "source": [
    "assert occurrences == [10, 23]"
   ]
  },
  {
   "cell_type": "code",
   "execution_count": 52,
   "id": "700ce75f-cce7-4a4f-9cd3-68284fc91b08",
   "metadata": {},
   "outputs": [
    {
     "name": "stdout",
     "output_type": "stream",
     "text": [
      "[10, 24]\n"
     ]
    }
   ],
   "source": [
    "# test 2\n",
    "p = 'CGCG'\n",
    "t = ten_as + 'CGCG' + ten_as + 'CGCG' + ten_as\n",
    "occurrences = naive_with_rc(p, t)\n",
    "print(occurrences)"
   ]
  },
  {
   "cell_type": "code",
   "execution_count": 53,
   "id": "4e0c7d19-5b84-4864-8db4-51ab4f0caae6",
   "metadata": {},
   "outputs": [],
   "source": [
    "assert occurrences == [10, 24]"
   ]
  },
  {
   "cell_type": "code",
   "execution_count": 54,
   "id": "fa42c473-766c-44ad-bb8e-5864230314c8",
   "metadata": {},
   "outputs": [
    {
     "name": "stdout",
     "output_type": "stream",
     "text": [
      "--2023-10-13 16:46:05--  http://d396qusza40orc.cloudfront.net/ads1/data/phix.fa\n",
      "Resolving d396qusza40orc.cloudfront.net (d396qusza40orc.cloudfront.net)... 13.227.230.46, 13.227.230.229, 13.227.230.125, ...\n",
      "Connecting to d396qusza40orc.cloudfront.net (d396qusza40orc.cloudfront.net)|13.227.230.46|:80... connected.\n",
      "HTTP request sent, awaiting response... 200 OK\n",
      "Length: 5528 (5.4K) [application/octet-stream]\n",
      "Saving to: ‘data/phix.fa’\n",
      "\n",
      "data/phix.fa        100%[===================>]   5.40K  --.-KB/s    in 0.001s  \n",
      "\n",
      "2023-10-13 16:46:05 (5.47 MB/s) - ‘data/phix.fa’ saved [5528/5528]\n",
      "\n"
     ]
    }
   ],
   "source": [
    "# Phi-X genome (test 3)\n",
    "!wget http://d396qusza40orc.cloudfront.net/ads1/data/phix.fa -O data/phix.fa"
   ]
  },
  {
   "cell_type": "code",
   "execution_count": 55,
   "id": "4d0d9ebe-5063-43f2-8069-c1fb4082b847",
   "metadata": {},
   "outputs": [],
   "source": [
    "phix_genome = readGenome('data/phix.fa')"
   ]
  },
  {
   "cell_type": "code",
   "execution_count": 56,
   "id": "1f6c3300-bfa0-48fc-b5fb-fc4522781eb9",
   "metadata": {},
   "outputs": [],
   "source": [
    "occurrences = naive_with_rc('ATTA', phix_genome)"
   ]
  },
  {
   "cell_type": "code",
   "execution_count": 57,
   "id": "a6c8c027-9517-4faf-ad30-47f42a07f2c4",
   "metadata": {},
   "outputs": [
    {
     "name": "stdout",
     "output_type": "stream",
     "text": [
      "offset of leftmost occurrence: 62\n"
     ]
    }
   ],
   "source": [
    "print('offset of leftmost occurrence: %d' % min(occurrences))"
   ]
  },
  {
   "cell_type": "code",
   "execution_count": 58,
   "id": "b4968114-d710-4b86-9681-a2c9cffe3e95",
   "metadata": {},
   "outputs": [],
   "source": [
    "assert min(occurrences) == 62"
   ]
  },
  {
   "cell_type": "code",
   "execution_count": 59,
   "id": "2a1d4eed-4efe-422b-bc7b-4d52689e2e98",
   "metadata": {},
   "outputs": [
    {
     "name": "stdout",
     "output_type": "stream",
     "text": [
      "# occurrences: 60\n"
     ]
    }
   ],
   "source": [
    "print('# occurrences: %d' % len(occurrences))"
   ]
  },
  {
   "cell_type": "code",
   "execution_count": 60,
   "id": "d81d8d22-3195-485d-ab42-4d138b9753c0",
   "metadata": {},
   "outputs": [],
   "source": [
    "assert len(occurrences) == 60"
   ]
  },
  {
   "cell_type": "code",
   "execution_count": null,
   "id": "37bfc9c7-bde3-43ab-8db0-6071d49e0efb",
   "metadata": {},
   "outputs": [],
   "source": [
    "# test-case 1 (naive_2mm)\n",
    "p = 'CTGT'\n",
    "ten_as = 'AAAAAAAAAA'\n",
    "t = ten_as + 'CTGT' + ten_as + 'CTTT' + ten_as + 'CGGG' + ten_as\n",
    "occurrences = naive_2mm(p, t)\n",
    "print(occurrences)"
   ]
  },
  {
   "cell_type": "code",
   "execution_count": null,
   "id": "e38a7e87-ca33-4cdc-95d2-d5576b9ffd35",
   "metadata": {},
   "outputs": [],
   "source": [
    "# test-case 2\n",
    "occurrences = naive_2mm('GATTACA', phix_genome)\n",
    "print(f\"min: {min(occurrences)} len: {len(occurrences)}\")"
   ]
  },
  {
   "cell_type": "markdown",
   "id": "fc348538-6e64-4bd4-8d3a-503eaeed6b4e",
   "metadata": {},
   "source": [
    "## Quiz"
   ]
  },
  {
   "cell_type": "code",
   "execution_count": 61,
   "id": "6f71620f-20df-444f-9a22-a98d7cad7501",
   "metadata": {},
   "outputs": [
    {
     "name": "stdout",
     "output_type": "stream",
     "text": [
      "--2023-10-13 16:47:36--  https://d28rh4a8wq0iu5.cloudfront.net/ads1/data/lambda_virus.fa\n",
      "Resolving d28rh4a8wq0iu5.cloudfront.net (d28rh4a8wq0iu5.cloudfront.net)... 13.225.0.145, 13.225.0.166, 13.225.0.220, ...\n",
      "Connecting to d28rh4a8wq0iu5.cloudfront.net (d28rh4a8wq0iu5.cloudfront.net)|13.225.0.145|:443... connected.\n",
      "HTTP request sent, awaiting response... 200 OK\n",
      "Length: 49270 (48K) [application/octet-stream]\n",
      "Saving to: ‘data/lambda_virus.fa’\n",
      "\n",
      "data/lambda_virus.f 100%[===================>]  48.12K   106KB/s    in 0.5s    \n",
      "\n",
      "2023-10-13 16:47:37 (106 KB/s) - ‘data/lambda_virus.fa’ saved [49270/49270]\n",
      "\n"
     ]
    }
   ],
   "source": [
    "!wget https://d28rh4a8wq0iu5.cloudfront.net/ads1/data/lambda_virus.fa -O data/lambda_virus.fa"
   ]
  },
  {
   "cell_type": "code",
   "execution_count": 63,
   "id": "d1b00fae-3164-44cc-b1ba-921e5c8019f2",
   "metadata": {},
   "outputs": [],
   "source": [
    "genome = readGenome('data/lambda_virus.fa')"
   ]
  },
  {
   "cell_type": "code",
   "execution_count": 64,
   "id": "396ee30e-53be-44fc-8b7d-ae33b2dc99c7",
   "metadata": {},
   "outputs": [
    {
     "data": {
      "text/plain": [
       "'GGGCGGCGACCTCGCGGGTTTTCGC'"
      ]
     },
     "execution_count": 64,
     "metadata": {},
     "output_type": "execute_result"
    }
   ],
   "source": [
    "genome[:25]"
   ]
  },
  {
   "cell_type": "code",
   "execution_count": 65,
   "id": "8e30b70a-7fd2-4cd7-8ebe-aed4e30c8c5f",
   "metadata": {},
   "outputs": [
    {
     "data": {
      "text/plain": [
       "306"
      ]
     },
     "execution_count": 65,
     "metadata": {},
     "output_type": "execute_result"
    }
   ],
   "source": [
    "p = 'AGGT'\n",
    "occ = naive_with_rc(p, genome)\n",
    "len(occ)"
   ]
  },
  {
   "cell_type": "code",
   "execution_count": 66,
   "id": "ad9373c8-c4b1-4ed3-bef6-4c2be60b69d7",
   "metadata": {},
   "outputs": [
    {
     "data": {
      "text/plain": [
       "195"
      ]
     },
     "execution_count": 66,
     "metadata": {},
     "output_type": "execute_result"
    }
   ],
   "source": [
    "p = 'TTAA'\n",
    "occ = naive_with_rc(p, genome)\n",
    "len(occ)"
   ]
  },
  {
   "cell_type": "code",
   "execution_count": 69,
   "id": "7816cb55-a6a2-420c-a753-4241d2ee6c25",
   "metadata": {},
   "outputs": [
    {
     "data": {
      "text/plain": [
       "26028"
      ]
     },
     "execution_count": 69,
     "metadata": {},
     "output_type": "execute_result"
    }
   ],
   "source": [
    "p = 'ACTAAGT'\n",
    "occ = naive_with_rc(p, genome)\n",
    "min(occ)"
   ]
  },
  {
   "cell_type": "code",
   "execution_count": 70,
   "id": "7eeac3eb-1720-4162-a032-42de7a6df8f2",
   "metadata": {},
   "outputs": [
    {
     "data": {
      "text/plain": [
       "450"
      ]
     },
     "execution_count": 70,
     "metadata": {},
     "output_type": "execute_result"
    }
   ],
   "source": [
    "p = 'AGTCGA'\n",
    "occ = naive_with_rc(p, genome)\n",
    "min(occ)"
   ]
  },
  {
   "cell_type": "code",
   "execution_count": 78,
   "id": "db7d6923-2600-4cf4-bc0a-2bdc24a8d1af",
   "metadata": {},
   "outputs": [
    {
     "data": {
      "text/plain": [
       "191"
      ]
     },
     "execution_count": 78,
     "metadata": {},
     "output_type": "execute_result"
    }
   ],
   "source": [
    "p = 'TTCAAGCC'\n",
    "occ = naive_2mm(p, genome)\n",
    "len(occ)"
   ]
  },
  {
   "cell_type": "code",
   "execution_count": 79,
   "id": "d6d7853f-8905-4acd-ac15-c97de88aec2b",
   "metadata": {},
   "outputs": [
    {
     "data": {
      "text/plain": [
       "49"
      ]
     },
     "execution_count": 79,
     "metadata": {},
     "output_type": "execute_result"
    }
   ],
   "source": [
    "p = 'AGGAGGTT'\n",
    "occ = naive_2mm(p, genome)\n",
    "min(occ)"
   ]
  },
  {
   "cell_type": "code",
   "execution_count": 83,
   "id": "5346b6d4-dc02-4d7d-8712-0f099dc32ae2",
   "metadata": {},
   "outputs": [
    {
     "data": {
      "text/plain": [
       "'data/ERR266411_1.first1000.fastq'"
      ]
     },
     "execution_count": 83,
     "metadata": {},
     "output_type": "execute_result"
    }
   ],
   "source": [
    "import glob\n",
    "err_file = glob.glob('data/ERR*')[0]\n",
    "err_file"
   ]
  },
  {
   "cell_type": "code",
   "execution_count": 107,
   "id": "0d2b4beb-ddbf-4ea1-ba1a-3beda79d5c74",
   "metadata": {},
   "outputs": [],
   "source": [
    "seq, qual = readFastq(err_file)"
   ]
  },
  {
   "cell_type": "code",
   "execution_count": 108,
   "id": "d2cfb708-2356-42d9-af1a-0ac3045f9cf9",
   "metadata": {},
   "outputs": [
    {
     "data": {
      "text/plain": [
       "['TAAACAAGCAGTAGTAATTCCTGCTTTATCAAGATAATTTTTCGACTCATCAGAAATATCCGAAAGTGTTAACTTCTGCGTCATGGAAGCGATAAAACTC',\n",
       " 'AACAAGCAGTAGTAATTCCTGCTTTATCAAGATAATTTTTCGACTCATCAGAAATATACGAAAGTGTTAACTTCTGCGTCATGGACACGAAAAAACTCCC',\n",
       " 'TAAACAAGCAGTAGTAATTCCTGCTTTATCAAGATAATTTTTCGACTCATCAGAAATATCCGAAAGTGTTAACTTCTGCGTCATGGAAGCGATAAAACTC',\n",
       " 'AACAAGCAGTAGTAATTCCTGCTTTATCAAGATAATTTTTCGACTCATCAGAAATATCCGAAAGTGTTAACTTCTGCGTCATGGAAGCGATAAAACTCTG',\n",
       " 'AGCCGACGTTTTGGCGGCGCAACCTGTGACGACAAATCTGCTCAAATTTATGCGCGCTTCGATAAAAATGATTGGCGTATCCAACCTGCAGAGTTTTATC',\n",
       " 'TAAACAAGCAGTAGTAATTCCTGCTTTATCAAGATAATTTTTCGACTCATCAGAAATATCCGAAAGTGTTAACTTCTGCGTCATGGAAGCGATAAAACTC',\n",
       " 'AACAAGCAGTAGTAATTCCTGCTTTATCAAGATAATTTTTCGACTCATCAGAAATATCCGAAAGTGTTAACTTCTGCGTCATGGAAGCGATAAAACTCTG',\n",
       " 'GACAAATCTGCTCAAATTTATGCGCGCTTCGATAAAAATGATTGGCGTATCCAACCTGCAGAGTTTTATCGCTTCCATGACGCAGAAGTTAACACTTTCG',\n",
       " 'CTGTAGCCGACGTTTTGGCGGCGCAACCTGTGACGACAAATCTGCTCAAATTTATGCGCGCTTCGATAAAAATGATTGGCGTATCCAACCTGCAGAGTTT',\n",
       " 'CTGTGACGACAAATCTGCTCAAATTTATGCGCGCTTCGATAAAAATGATTGGCGTATCCAACCTGCAGAGTTTTATCGCTTCCATGACGCAGAAGTTAAC',\n",
       " 'CAAATCTGCTCAAATTTATGCGCGCTTCGATAAAAATGATTGGCGTATCCAACCTGCAGAGTTTTATCGCTTCCATGACGCAGAAGTTAACACTTTCGGA',\n",
       " 'GTAAACAAGCAGTAGTAATTCCTGCTTTATCAAGATAATTTTTCGACTCATCAGCAATATCCGAAAGAGTTAACTTTTGCGTCATGGAAGCGATAAAACC',\n",
       " 'GTAAACAAGCAGTAGTAATTCCTGCTTTATCAAGATAATTTTTCGACTCATCAGAAATATCCGAAAGTGTTAACTTCTGCGTCATGGAAGCGATAAAACT',\n",
       " 'TTACTGTAGCCGACGTTTTGGCGGCGCAACCTGTGACGACAAATCTGCTCAAATTTATGCGCGCTTCGATAAAAATGATTGGCGTATCCAACCTGCAGAG',\n",
       " 'AAACAAGCAGTAGTAATTCCTGCTTTATCAAGATAATTTTTCGACTCATCAGAAATATCCGAAAGTGTTAACTTCTGCGTCATGGAAGCGATAAAACTCT',\n",
       " 'GTAAACAAGCAGTAGTAATTCCTGCTTTATCAAGATAATTTTTCGACTCATCAGAAATATCCGAAAGTGTTAACTTCTGCGTCATGGAAGCGATAAAACT',\n",
       " 'GGAGTGCTTAATCCAACTTACCAAGCTGGGTTACGACGCGACCCCGTTCAACCAGAGCTTCAAGTGGAAGACAAAAAGAGCGATGAAAATGAGACTCGGA',\n",
       " 'AACCTGTGACGACAAATCTGCTCAAATTTATGCGCGCTTCGATAAAAATGATTGGCGTATCCAACCTGCAGAGTTTTATCGCTTCCATGACGCAGAAGTT',\n",
       " 'CTGCTCAAATTTATGCGCGCTTCGATAAAAATGATTGGCGTATCCAACCTGCAGAGTTTTATCGCTTCCATGACGCAGAAGTTAACACTTTCGGATATTT',\n",
       " 'ATCTGCTCAAATTTATGCGCGCTTCGATAAAAATGATTGGCGTATCCAACCTGCAGAGTTTTATCGCTTCCATGACGCAGAAGTTAACACTTTCGGATAT',\n",
       " 'CGTAAACAAGCAGTAGTAATTCCTGCTTTATCAAGATAATTTTTCGACTCATCAGAAATATCCGAAAGTGTTAACTTCTGCGTCATGGAAGCGATAAAAC',\n",
       " 'ACCTGTGACGACAAATCTGCTCAAATTTATGCGCGCTTCGATAAAAATGATTGGCGTATCCAACCTGCAGAGTTTTATCGCTTCCATGACGCAGAAGTTA',\n",
       " 'CGTAAACAAGCAGTAGTAATTCCTGCTTTATCAAGATAATTTTTCGACTCATCAGAAATATCCGAAAGTGTTAACTTCTGCGTCATGGAAGCGATAAAAC',\n",
       " 'TTACTGTAGCCGACGTTTTGGCGGCGCAACCTGTGACGACAAATCTGCTCAAATTTATGCGCGCTTCGATAAAAATGATTGGCGTATCCAACCTGCAGAG',\n",
       " 'TTGGCGGCGCAACCTGTGACGACAAATCTGCTCAAATTTATGCGCGCTTCGATAAAAATGATTGGCGTATCCAACCTGCAGAGTTTTATCGCTTCCATGA']"
      ]
     },
     "execution_count": 108,
     "metadata": {},
     "output_type": "execute_result"
    }
   ],
   "source": [
    "seq[:25]"
   ]
  },
  {
   "cell_type": "code",
   "execution_count": 109,
   "id": "3a2e2e9d-0743-4271-897c-4dd04678e876",
   "metadata": {},
   "outputs": [
    {
     "data": {
      "text/plain": [
       "['B@DFEFFFGEGGGHEHGHGHGGGGHIFGFIFHICFGHGHGJGHFGHGIHEHGGHJGFEFHGHEGGHHGHIFGFGDIFGGFGGGFHGGGHGGGAGIFGGCG',\n",
       " \"=@@CEBF@BGBG6GF1E<04C3E7E.9G=H<H:HH;HBH;G69F7,7DG((EG8A8,-5-8,?,,,AE>C,B?,,,64$AC'+'='+4'3*4+E322*'(\",\n",
       " '@@DFEEFFGFGGGFFHGHGGIGGGHIHGFIEHGHHHHFIGGEHFGHGFHGHEGHGGFGFDGHHGIHCGDFFDFDGEIGGFGHGGHGCFFGGGDGEFCFCD',\n",
       " 'A@DFEFFFGDGGGHFHHHGHGGFGHILGFGEHHHFHHFIGHGHFGHGGGEHGGHJGGHFGFGHHEHFGHICKFGJEIGGIFGGGHGGFHIEEGGEFGKGD',\n",
       " 'B@DFEHFEGEGGGHGFGHGHFFGGGI@GDFHHFFHGHGGFHCHFGHCIGEH9CHGEFGFHFDHEIHCGFGFDDCCGIDGIGKGGHGCFGIFGG;HFGFIE',\n",
       " '8@DCDD=@GGBGGGHEEHGAGCF@=IG?EAE8:DF;7BBGGGGF7@7GH8ACAHAE7H=AE,E@7D4C5CEGGB>BBBG54>G4=AG44@F4GEB<G*2G',\n",
       " 'B@DFEHFFGEGGGFFHGHGHFGFGFIGGFGEHIHHHHFIEGGEFGHGGGFHFGHGGGHFHGHHHEHHGHFHGGGJJIGGGGGGGJGGFHGGEGGHFGGG@',\n",
       " 'B@DFEDFEGGGGGFFHEHGIGGGGFIGGHHFHHHHGHGFGHHHFGEGFGGHGGHJGGHFHGEHH,HGGHFHGFAGEHHGIGCGGFGEFHFFGGDGFEGGD',\n",
       " '@@DFE9DFGEGDGD?HGHGBFCFEEDE?DFDDGG97BFHB6GEDA@GGGEHEGAHCEGFFAEFHEHFGHFEK?DJEHDGIGDGGHGGGJF@GFFE9C2GE',\n",
       " 'B@DFEEFEGIGGGGGGGHGHGGGGFIFGGIFHFHHEHFHGHGHFGEGGHG8EGHGGHGFGIGHGIHGEFFHFGGJJIIGIGHGGHGGFJEGGGFGFGGGE',\n",
       " 'B@DFEFFEGGGGGHFHGHGGGGGGFIGGFFEHGHFGHBFGGDHFG@GIGFHEGHGGHJFHGBHFGHGGHEHFFGJIEGGIGGGGFDCEFIGEGFFFGGGE',\n",
       " '8@@C@BFDBHBGB6F>A<GFCEH@F>H@EGFHBEFH?B9FDGA9GC@I@88D7H,8G9BH8E?6IF?6F?IB?6>I,H,5>C4G=:=A=3D44FB?DG+9',\n",
       " 'B@DFFDFGGEGGGDGEGHGHGGFGHIGGDHFEGEHGHFHGHGHFGHGGHGHEGHGGGJFGGHFGIEHCHFHBFGIEHIGIGHGGHD@FFEFEGEGFGEG@',\n",
       " '@@DFEEFEGEGGGDGFEHGHGGFGFIGGGGEEFFFHHBBFGDHDG@BFGEHGGHGGGEFFEFCDGHFGFCHFGGFB?HGFCH@CFDCEG@@EGDBCGF+E',\n",
       " '3@DFEEFEGB6@B6F.GH0A>FGBH2FGEGF8GGHAHGGEGGEDGEGDGEHDGHHGEEFGFFEEE6FCFCHFFGCEEGGFGDGG=GGAFFE4AEEG;F27',\n",
       " 'B@DFEHFEGEGGGGGHGHGHGEGGFHGGEEEHHGHGHFHEGHHHGHGIGEHFGHFGGHFHGHHGIFH=H6FBGCIJHHGFFHGCFGGF=FGGDFGBG<C1',\n",
       " '?@:C@6F@GBGGGAHHAHGA>G?@=>F9EA<ABDHEH9H;GB-9,@G7@EH-2,DD,-+(+,))(&*,526)EE,II+,24C@C+G+44G2G4*C9*22D',\n",
       " 'B@DFEEFFGHGGGGFEGHGGFGGGHIGGGEHHHFFHHGFFGHHFGHGIGGHEGHJGHBFHGHHFIHGCHGFFGGFIFGGIJGGFHAGFFIFFFFIFG@G9',\n",
       " 'B@DFEHFEGEGGGFGHGHGIGFGGGIHGGEEHGFFGHGHGGGHFGHGIIGHGGHJGHGFFGHHFIHFGHEIFGGGJIHG?GDGGJGGFJIGEGGGFGGED',\n",
       " 'B@DFEHFFGHGGGFGHGHGHFGFGHIFGFIEHIGHHHFFEDEEFGHGFGGHDGHGGFJFGIHHGGHFGHGFFFGJIIIGIGDGGHGGFHGGGGGEF2GEG',\n",
       " 'B@DFEBF3BFGGGGFHGBGHFGFGHHGGFFEHFFHGHBEGHGHFGHGIGEHGGHJGEHFDGHEHBH?GFGCGEGGJFGGGJKCFHGGFDFGFGFEBGGGG',\n",
       " 'B@DFEFFFGHGGFFFGGHGGGGFGF6EGGGEGFEHHCGHEGCFDDGC@HEHCGHGGFECGBF<:GEFGFCICECFI:IGFDDGKCFFGBGFGFFGFDGEE',\n",
       " 'B@@CDFF@BBD@BHE2GH?AF@F@ECFGEFGHHHFHHFGFGGHF@H@FG8HDGHAGGCIDGFFGCF4=F?FBFGFJE4=FIC=G4GCFF@GEG23AGCEG',\n",
       " 'B@DFHB=DBHG@GGF>DHGCDKEGDCDBGFFAF:FGEBHEGEE9GFG9GEHGGHGGHGBAFGEGCHFCDGFGFBIBHGDF4GGF4?GFGIEFGFCF2@?D',\n",
       " 'B@DFEEFFGEGGGHFFDHGFFGGEFIHGHFHEHGFHHFFGGCHFGHGFHFHDGHJGFJFGGHHGGHACFEFGEGJJEGGIG>G>FGGFDFGGFGGFGGE>']"
      ]
     },
     "execution_count": 109,
     "metadata": {},
     "output_type": "execute_result"
    }
   ],
   "source": [
    "qual[:25]"
   ]
  },
  {
   "cell_type": "code",
   "execution_count": 88,
   "id": "93f6fb50-7666-41f8-accc-316e95213a68",
   "metadata": {},
   "outputs": [],
   "source": [
    "gc = findGCByPos(seq)"
   ]
  },
  {
   "cell_type": "code",
   "execution_count": 89,
   "id": "b5d53362-348b-4eb2-b2d5-55b5e4a13d73",
   "metadata": {},
   "outputs": [
    {
     "data": {
      "text/plain": [
       "[0.5,\n",
       " 0.5,\n",
       " 0.532,\n",
       " 0.531,\n",
       " 0.497,\n",
       " 0.473,\n",
       " 0.467,\n",
       " 0.546,\n",
       " 0.498,\n",
       " 0.503,\n",
       " 0.511,\n",
       " 0.479,\n",
       " 0.529,\n",
       " 0.478,\n",
       " 0.392,\n",
       " 0.468,\n",
       " 0.43,\n",
       " 0.408,\n",
       " 0.427,\n",
       " 0.458,\n",
       " 0.477,\n",
       " 0.453,\n",
       " 0.448,\n",
       " 0.464,\n",
       " 0.394]"
      ]
     },
     "execution_count": 89,
     "metadata": {},
     "output_type": "execute_result"
    }
   ],
   "source": [
    "gc[:25]"
   ]
  },
  {
   "cell_type": "code",
   "execution_count": 90,
   "id": "02beff2f-47df-4750-a211-ed6987e1f824",
   "metadata": {},
   "outputs": [
    {
     "data": {
      "text/plain": [
       "[<matplotlib.lines.Line2D at 0x7fce33ac9a50>]"
      ]
     },
     "execution_count": 90,
     "metadata": {},
     "output_type": "execute_result"
    },
    {
     "data": {
      "image/png": "[encoded data removed]",
      "text/plain": [
       "<Figure size 640x480 with 1 Axes>"
      ]
     },
     "metadata": {},
     "output_type": "display_data"
    }
   ],
   "source": [
    "import matplotlib.pyplot as plt\n",
    "plt.plot(range(len(gc)), gc)"
   ]
  },
  {
   "cell_type": "code",
   "execution_count": 91,
   "id": "63dd2f88-2938-48d8-9415-5cad341659a7",
   "metadata": {},
   "outputs": [],
   "source": [
    "# look at qualities?\n",
    "def phred33ToQ(qual):\n",
    "    return ord(qual) - 33\n",
    "qual_score = []\n",
    "for qual_string in qual:\n",
    "    for qual in qual_string:\n",
    "        qual_score.append(phred33ToQ(qual))"
   ]
  },
  {
   "cell_type": "code",
   "execution_count": 95,
   "id": "38e6106f-9a35-46ea-aea2-a457c680db7d",
   "metadata": {},
   "outputs": [
    {
     "data": {
      "text/plain": [
       "0"
      ]
     },
     "execution_count": 95,
     "metadata": {},
     "output_type": "execute_result"
    }
   ],
   "source": [
    "min(qual_score)"
   ]
  },
  {
   "cell_type": "code",
   "execution_count": 96,
   "id": "57bbf0dd-fe25-4400-bff6-15f135ef1e11",
   "metadata": {},
   "outputs": [
    {
     "data": {
      "text/plain": [
       "33022"
      ]
     },
     "execution_count": 96,
     "metadata": {},
     "output_type": "execute_result"
    }
   ],
   "source": [
    "qual_score.index(0)"
   ]
  },
  {
   "cell_type": "code",
   "execution_count": 98,
   "id": "7d31f34e-5f8c-478e-8604-a828dc7cdea0",
   "metadata": {},
   "outputs": [
    {
     "data": {
      "text/plain": [
       "[<matplotlib.lines.Line2D at 0x7fce300fc4f0>]"
      ]
     },
     "execution_count": 98,
     "metadata": {},
     "output_type": "execute_result"
    },
    {
     "data": {
      "image/png": "[encoded data removed]",
      "text/plain": [
       "<Figure size 640x480 with 1 Axes>"
      ]
     },
     "metadata": {},
     "output_type": "display_data"
    }
   ],
   "source": [
    "plt.plot(range(len(qual_score)), qual_score)"
   ]
  },
  {
   "cell_type": "code",
   "execution_count": 110,
   "id": "055155c4-729a-4f0b-a231-e042732dde6d",
   "metadata": {},
   "outputs": [
    {
     "data": {
      "text/plain": [
       "['B@DFEFFFGEGGGHEHGHGHGGGGHIFGFIFHICFGHGHGJGHFGHGIHEHGGHJGFEFHGHEGGHHGHIFGFGDIFGGFGGGFHGGGHGGGAGIFGGCG',\n",
       " \"=@@CEBF@BGBG6GF1E<04C3E7E.9G=H<H:HH;HBH;G69F7,7DG((EG8A8,-5-8,?,,,AE>C,B?,,,64$AC'+'='+4'3*4+E322*'(\",\n",
       " '@@DFEEFFGFGGGFFHGHGGIGGGHIHGFIEHGHHHHFIGGEHFGHGFHGHEGHGGFGFDGHHGIHCGDFFDFDGEIGGFGHGGHGCFFGGGDGEFCFCD',\n",
       " 'A@DFEFFFGDGGGHFHHHGHGGFGHILGFGEHHHFHHFIGHGHFGHGGGEHGGHJGGHFGFGHHEHFGHICKFGJEIGGIFGGGHGGFHIEEGGEFGKGD',\n",
       " 'B@DFEHFEGEGGGHGFGHGHFFGGGI@GDFHHFFHGHGGFHCHFGHCIGEH9CHGEFGFHFDHEIHCGFGFDDCCGIDGIGKGGHGCFGIFGG;HFGFIE',\n",
       " '8@DCDD=@GGBGGGHEEHGAGCF@=IG?EAE8:DF;7BBGGGGF7@7GH8ACAHAE7H=AE,E@7D4C5CEGGB>BBBG54>G4=AG44@F4GEB<G*2G',\n",
       " 'B@DFEHFFGEGGGFFHGHGHFGFGFIGGFGEHIHHHHFIEGGEFGHGGGFHFGHGGGHFHGHHHEHHGHFHGGGJJIGGGGGGGJGGFHGGEGGHFGGG@',\n",
       " 'B@DFEDFEGGGGGFFHEHGIGGGGFIGGHHFHHHHGHGFGHHHFGEGFGGHGGHJGGHFHGEHH,HGGHFHGFAGEHHGIGCGGFGEFHFFGGDGFEGGD',\n",
       " '@@DFE9DFGEGDGD?HGHGBFCFEEDE?DFDDGG97BFHB6GEDA@GGGEHEGAHCEGFFAEFHEHFGHFEK?DJEHDGIGDGGHGGGJF@GFFE9C2GE',\n",
       " 'B@DFEEFEGIGGGGGGGHGHGGGGFIFGGIFHFHHEHFHGHGHFGEGGHG8EGHGGHGFGIGHGIHGEFFHFGGJJIIGIGHGGHGGFJEGGGFGFGGGE']"
      ]
     },
     "execution_count": 110,
     "metadata": {},
     "output_type": "execute_result"
    }
   ],
   "source": [
    "qual[:10]"
   ]
  },
  {
   "cell_type": "code",
   "execution_count": 114,
   "id": "938089c0-bf9d-4e8f-8265-6cc8fef0ebaa",
   "metadata": {},
   "outputs": [],
   "source": [
    "# look at per-base quality\n",
    "def get_average_quality(quals):\n",
    "    average_quals = []\n",
    "    for i in range(len(quals[0])):\n",
    "        qual_scores = []\n",
    "        for q in quals:\n",
    "            qual_scores.append(phred33ToQ(q[i]))\n",
    "        average_quals.append(sum(qual_scores)/len(qual_scores))\n",
    "        qual_scores.clear()\n",
    "    return average_quals"
   ]
  },
  {
   "cell_type": "code",
   "execution_count": 115,
   "id": "63ab92e0-1515-414f-88ed-55affd17536e",
   "metadata": {},
   "outputs": [],
   "source": [
    "avg_qual = get_average_quality(qual)"
   ]
  },
  {
   "cell_type": "code",
   "execution_count": 119,
   "id": "4b909d48-b216-4dc3-b80d-1d5e45fcf893",
   "metadata": {},
   "outputs": [
    {
     "data": {
      "image/png": "[encoded data removed]",
      "text/plain": [
       "<Figure size 640x480 with 1 Axes>"
      ]
     },
     "metadata": {},
     "output_type": "display_data"
    }
   ],
   "source": [
    "plt.plot(range(len(avg_qual)), avg_qual)\n",
    "plt.show()"
   ]
  },
  {
   "cell_type": "code",
   "execution_count": 120,
   "id": "da5a9da9-9e7c-464e-aeb8-dacdc4644e86",
   "metadata": {},
   "outputs": [
    {
     "data": {
      "text/plain": [
       "[31.309, 30.714, 33.776]"
      ]
     },
     "execution_count": 120,
     "metadata": {},
     "output_type": "execute_result"
    }
   ],
   "source": [
    "avg_qual[:3]"
   ]
  },
  {
   "cell_type": "code",
   "execution_count": 121,
   "id": "c6b6c066-91f0-44ce-a62b-2ea86e7185e3",
   "metadata": {},
   "outputs": [
    {
     "data": {
      "text/plain": [
       "30.714"
      ]
     },
     "execution_count": 121,
     "metadata": {},
     "output_type": "execute_result"
    }
   ],
   "source": [
    "min(avg_qual)"
   ]
  },
  {
   "cell_type": "code",
   "execution_count": 123,
   "id": "b55bad2d-6a75-4ebb-969c-e45040d9b380",
   "metadata": {},
   "outputs": [
    {
     "data": {
      "text/plain": [
       "31.54"
      ]
     },
     "execution_count": 123,
     "metadata": {},
     "output_type": "execute_result"
    }
   ],
   "source": [
    "avg_qual[-1]"
   ]
  },
  {
   "cell_type": "code",
   "execution_count": null,
   "id": "e3d07c29-0680-4b8c-b8bc-0cf5eb315aa3",
   "metadata": {},
   "outputs": [],
   "source": []
  }
 ],
 "metadata": {
  "kernelspec": {
   "display_name": "Python 3 (ipykernel)",
   "language": "python",
   "name": "python3"
  },
  "language_info": {
   "codemirror_mode": {
    "name": "ipython",
    "version": 3
   },
   "file_extension": ".py",
   "mimetype": "text/x-python",
   "name": "python",
   "nbconvert_exporter": "python",
   "pygments_lexer": "ipython3",
   "version": "3.10.12"
  }
 },
 "nbformat": 4,
 "nbformat_minor": 5
}
